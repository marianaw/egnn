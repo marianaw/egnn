{
 "cells": [
  {
   "cell_type": "code",
   "execution_count": 1,
   "id": "637d519a",
   "metadata": {},
   "outputs": [],
   "source": [
    "import sys\n",
    "sys.path.append('/Users/mariana/Documents/projects/Graphs/egnn')"
   ]
  },
  {
   "cell_type": "code",
   "execution_count": 2,
   "id": "cd6403a2",
   "metadata": {},
   "outputs": [],
   "source": [
    "from ae_datasets import d_selector, Dataloader\n",
    "from ae_datasets.d_creator import max_n_nodes, DatasetCommunity, DatasetErdosRenyiNodes\n",
    "import graph as gl"
   ]
  },
  {
   "cell_type": "code",
   "execution_count": 3,
   "id": "c216f107",
   "metadata": {},
   "outputs": [],
   "source": [
    "import networkx as nx"
   ]
  },
  {
   "cell_type": "code",
   "execution_count": 4,
   "id": "1dbb6e97",
   "metadata": {},
   "outputs": [],
   "source": [
    "import numpy as np"
   ]
  },
  {
   "cell_type": "code",
   "execution_count": 5,
   "id": "fb5979bf",
   "metadata": {},
   "outputs": [],
   "source": [
    "import matplotlib.pyplot as plt"
   ]
  },
  {
   "cell_type": "code",
   "execution_count": 6,
   "id": "db8bc7f3",
   "metadata": {},
   "outputs": [],
   "source": [
    "dataset_name = 'community_ours'"
   ]
  },
  {
   "cell_type": "code",
   "execution_count": 7,
   "id": "27c9c539",
   "metadata": {},
   "outputs": [
    {
     "name": "stdout",
     "output_type": "stream",
     "text": [
      "Creating dataset with  2  communities\n"
     ]
    }
   ],
   "source": [
    "dataset = d_selector.retrieve_dataset(dataset_name, K=2, with_pos=True, n_nodes=10, directed=True)"
   ]
  },
  {
   "cell_type": "code",
   "execution_count": 34,
   "id": "a9f251c2",
   "metadata": {},
   "outputs": [
    {
     "name": "stdout",
     "output_type": "stream",
     "text": [
      "Creating dataset with  2  communities\n"
     ]
    }
   ],
   "source": [
    "dataset = DatasetCommunity(partition='train', n_nodes=10, with_pos=True, K=2)"
   ]
  },
  {
   "cell_type": "code",
   "execution_count": 16,
   "id": "989167b7",
   "metadata": {},
   "outputs": [],
   "source": [
    "loader = Dataloader(dataset)"
   ]
  },
  {
   "cell_type": "code",
   "execution_count": 17,
   "id": "d42553b5",
   "metadata": {},
   "outputs": [],
   "source": [
    "batch = next(iter(loader))"
   ]
  },
  {
   "cell_type": "code",
   "execution_count": 35,
   "id": "4febc8ae",
   "metadata": {},
   "outputs": [
    {
     "data": {
      "text/plain": [
       "{0: array([-0.28505213, -1.        ]),\n",
       " 1: array([-0.18763899, -0.69932536]),\n",
       " 2: array([-0.50824144, -0.91058988]),\n",
       " 3: array([-0.11111814, -0.23415637]),\n",
       " 4: array([-0.37524684, -0.6256424 ]),\n",
       " 5: array([0.07055266, 0.68103575]),\n",
       " 6: array([0.40783869, 0.64973733]),\n",
       " 7: array([0.12433347, 0.35276886]),\n",
       " 8: array([0.58570995, 0.97791266]),\n",
       " 9: array([0.27886277, 0.80825942])}"
      ]
     },
     "execution_count": 35,
     "metadata": {},
     "output_type": "execute_result"
    }
   ],
   "source": [
    "dataset.graphs[29].pos"
   ]
  },
  {
   "cell_type": "code",
   "execution_count": 23,
   "id": "470852d5",
   "metadata": {},
   "outputs": [
    {
     "data": {
      "image/png": "[encoded data removed]",
      "text/plain": [
       "<Figure size 640x480 with 1 Axes>"
      ]
     },
     "metadata": {},
     "output_type": "display_data"
    }
   ],
   "source": [
    "gl.plot_graph(dataset.graphs[29])"
   ]
  },
  {
   "cell_type": "code",
   "execution_count": 9,
   "id": "06c6c3a0",
   "metadata": {},
   "outputs": [],
   "source": [
    "def laplacian(adj):\n",
    "    return np.diag(adj.sum(1)) - adj"
   ]
  },
  {
   "cell_type": "code",
   "execution_count": 36,
   "id": "963d92b4",
   "metadata": {},
   "outputs": [],
   "source": [
    "adjs = []\n",
    "for graph in dataset.graphs:\n",
    "    _, _, _, adj_gt = graph.get_dense_graph(store=True, loops=False)\n",
    "    adjs.append(adj_gt.numpy())"
   ]
  },
  {
   "cell_type": "code",
   "execution_count": 37,
   "id": "b51c6366",
   "metadata": {},
   "outputs": [],
   "source": [
    "laps = []\n",
    "for adj in adjs:\n",
    "    laps.append(laplacian(adj))"
   ]
  },
  {
   "cell_type": "code",
   "execution_count": 38,
   "id": "212579db",
   "metadata": {},
   "outputs": [
    {
     "data": {
      "text/plain": [
       "5000"
      ]
     },
     "execution_count": 38,
     "metadata": {},
     "output_type": "execute_result"
    }
   ],
   "source": [
    "len(adjs)\n",
    "len(laps)"
   ]
  },
  {
   "cell_type": "code",
   "execution_count": 39,
   "id": "96cba1a0",
   "metadata": {},
   "outputs": [
    {
     "data": {
      "text/plain": [
       "array([[ True,  True, False,  True,  True, False,  True,  True, False,\n",
       "        False],\n",
       "       [ True, False,  True, False,  True,  True,  True,  True,  True,\n",
       "         True],\n",
       "       [False,  True, False,  True,  True,  True,  True,  True,  True,\n",
       "         True],\n",
       "       [ True, False,  True,  True, False,  True,  True,  True, False,\n",
       "        False],\n",
       "       [ True,  True,  True, False, False,  True,  True,  True,  True,\n",
       "         True],\n",
       "       [False,  True,  True,  True,  True, False,  True, False, False,\n",
       "         True],\n",
       "       [ True,  True,  True,  True,  True,  True, False,  True, False,\n",
       "         True],\n",
       "       [ True,  True,  True,  True,  True, False,  True, False,  True,\n",
       "         True],\n",
       "       [False,  True,  True, False,  True, False, False,  True,  True,\n",
       "         True],\n",
       "       [False,  True,  True, False,  True,  True,  True,  True,  True,\n",
       "        False]])"
      ]
     },
     "execution_count": 39,
     "metadata": {},
     "output_type": "execute_result"
    }
   ],
   "source": [
    "laps[90] == laps[190]"
   ]
  },
  {
   "cell_type": "code",
   "execution_count": null,
   "id": "dd11d037",
   "metadata": {},
   "outputs": [],
   "source": []
  },
  {
   "cell_type": "code",
   "execution_count": null,
   "id": "d8e53e33",
   "metadata": {},
   "outputs": [],
   "source": []
  },
  {
   "cell_type": "code",
   "execution_count": 41,
   "id": "88996ffa",
   "metadata": {},
   "outputs": [
    {
     "data": {
      "text/plain": [
       "<matplotlib.colorbar.Colorbar at 0x12e4adf30>"
      ]
     },
     "execution_count": 41,
     "metadata": {},
     "output_type": "execute_result"
    },
    {
     "data": {
      "image/png": "[encoded data removed]",
      "text/plain": [
       "<Figure size 480x480 with 2 Axes>"
      ]
     },
     "metadata": {},
     "output_type": "display_data"
    }
   ],
   "source": [
    "plt.matshow(laps[110])\n",
    "plt.colorbar()"
   ]
  },
  {
   "cell_type": "code",
   "execution_count": 46,
   "id": "5eae3a62",
   "metadata": {},
   "outputs": [],
   "source": [
    "graph_nx = gl.graph2networkx(dataset.graphs[0])\n",
    "l2 = nx.laplacian_matrix(graph_nx)"
   ]
  },
  {
   "cell_type": "code",
   "execution_count": 56,
   "id": "a2946838",
   "metadata": {},
   "outputs": [],
   "source": [
    "l3 = np.diag(a.sum(1)) - a"
   ]
  },
  {
   "cell_type": "code",
   "execution_count": 60,
   "id": "f3d42fa4",
   "metadata": {},
   "outputs": [
    {
     "data": {
      "text/plain": [
       "array([[ True,  True,  True,  True,  True,  True,  True,  True,  True,\n",
       "         True],\n",
       "       [ True,  True,  True,  True,  True,  True,  True,  True,  True,\n",
       "         True],\n",
       "       [ True,  True,  True,  True,  True,  True,  True,  True,  True,\n",
       "         True],\n",
       "       [ True,  True,  True,  True,  True,  True,  True,  True,  True,\n",
       "         True],\n",
       "       [ True,  True,  True,  True,  True,  True,  True,  True,  True,\n",
       "         True],\n",
       "       [ True,  True,  True,  True,  True,  True,  True,  True,  True,\n",
       "         True],\n",
       "       [ True,  True,  True,  True,  True,  True,  True,  True,  True,\n",
       "         True],\n",
       "       [ True,  True,  True,  True,  True,  True,  True,  True,  True,\n",
       "         True],\n",
       "       [ True,  True,  True,  True,  True,  True,  True,  True,  True,\n",
       "         True],\n",
       "       [ True,  True,  True,  True,  True,  True,  True,  True,  True,\n",
       "         True]])"
      ]
     },
     "execution_count": 60,
     "metadata": {},
     "output_type": "execute_result"
    }
   ],
   "source": [
    "l3 == l2"
   ]
  },
  {
   "cell_type": "code",
   "execution_count": 47,
   "id": "737f689c",
   "metadata": {},
   "outputs": [
    {
     "data": {
      "text/plain": [
       "array([[ 3, -1, -1, -1,  0,  0,  0,  0,  0,  0],\n",
       "       [-1,  4, -1,  0, -1, -1,  0,  0,  0,  0],\n",
       "       [-1, -1,  3,  0,  0, -1,  0,  0,  0,  0],\n",
       "       [-1,  0,  0,  3,  0,  0, -1, -1,  0,  0],\n",
       "       [ 0, -1,  0,  0,  2, -1,  0,  0,  0,  0],\n",
       "       [ 0, -1, -1,  0, -1,  3,  0,  0,  0,  0],\n",
       "       [ 0,  0,  0, -1,  0,  0,  4, -1, -1, -1],\n",
       "       [ 0,  0,  0, -1,  0,  0, -1,  4, -1, -1],\n",
       "       [ 0,  0,  0,  0,  0,  0, -1, -1,  2,  0],\n",
       "       [ 0,  0,  0,  0,  0,  0, -1, -1,  0,  2]])"
      ]
     },
     "execution_count": 47,
     "metadata": {},
     "output_type": "execute_result"
    }
   ],
   "source": [
    "l2 = l2.toarray()\n",
    "l2"
   ]
  },
  {
   "cell_type": "code",
   "execution_count": 51,
   "id": "aacd9d41",
   "metadata": {},
   "outputs": [
    {
     "name": "stderr",
     "output_type": "stream",
     "text": [
      "/var/folders/gy/r509yr655150tg12h1t9h_tr0000gn/T/ipykernel_35939/3640487693.py:1: DeprecationWarning: adj_matrix is deprecated and will be removed in version 3.0.\n",
      "Use `adjacency_matrix` instead\n",
      "\n",
      "  a = nx.adj_matrix(graph_nx)\n",
      "/Users/mariana/.Envs/molgen/lib/python3.10/site-packages/networkx/linalg/graphmatrix.py:187: FutureWarning: adjacency_matrix will return a scipy.sparse array instead of a matrix in Networkx 3.0.\n",
      "  return adjacency_matrix(G, nodelist, dtype, weight)\n"
     ]
    },
    {
     "data": {
      "text/plain": [
       "array([[0, 1, 1, 1, 0, 0, 0, 0, 0, 0],\n",
       "       [1, 0, 1, 0, 1, 1, 0, 0, 0, 0],\n",
       "       [1, 1, 0, 0, 0, 1, 0, 0, 0, 0],\n",
       "       [1, 0, 0, 0, 0, 0, 1, 1, 0, 0],\n",
       "       [0, 1, 0, 0, 0, 1, 0, 0, 0, 0],\n",
       "       [0, 1, 1, 0, 1, 0, 0, 0, 0, 0],\n",
       "       [0, 0, 0, 1, 0, 0, 0, 1, 1, 1],\n",
       "       [0, 0, 0, 1, 0, 0, 1, 0, 1, 1],\n",
       "       [0, 0, 0, 0, 0, 0, 1, 1, 0, 0],\n",
       "       [0, 0, 0, 0, 0, 0, 1, 1, 0, 0]])"
      ]
     },
     "execution_count": 51,
     "metadata": {},
     "output_type": "execute_result"
    }
   ],
   "source": [
    "a = nx.adj_matrix(graph_nx)\n",
    "a = a.toarray()\n",
    "a"
   ]
  },
  {
   "cell_type": "code",
   "execution_count": 118,
   "id": "b488f369",
   "metadata": {},
   "outputs": [],
   "source": [
    "J = np.ones_like(L) * 0.1"
   ]
  },
  {
   "cell_type": "code",
   "execution_count": 126,
   "id": "0fa2e603",
   "metadata": {},
   "outputs": [
    {
     "data": {
      "text/plain": [
       "array([-0. ,  0.2,  5.4,  5. ,  4.5,  3.6,  1.7,  2.6,  2. ,  5. ],\n",
       "      dtype=float32)"
      ]
     },
     "execution_count": 126,
     "metadata": {},
     "output_type": "execute_result"
    }
   ],
   "source": [
    "val.round(1)"
   ]
  },
  {
   "cell_type": "code",
   "execution_count": 136,
   "id": "8069a0c1",
   "metadata": {},
   "outputs": [],
   "source": [
    "L2 = L + J\n",
    "val2, vec2 = np.linalg.eig(L2)"
   ]
  },
  {
   "cell_type": "code",
   "execution_count": 137,
   "id": "19b5feab",
   "metadata": {},
   "outputs": [
    {
     "data": {
      "text/plain": [
       "array([5.4, 0.2, 4.5, 1. , 3.6, 1.7, 2.6, 5. , 5. , 2. ], dtype=float32)"
      ]
     },
     "execution_count": 137,
     "metadata": {},
     "output_type": "execute_result"
    }
   ],
   "source": [
    "val2.round(1)"
   ]
  },
  {
   "cell_type": "code",
   "execution_count": 139,
   "id": "6674c5c8",
   "metadata": {},
   "outputs": [
    {
     "data": {
      "text/plain": [
       "array([0.2183465, 1.       , 1.7126641, 1.9999999, 2.5857863, 3.5524094,\n",
       "       4.5165796, 5.       , 5.       , 5.4142137], dtype=float32)"
      ]
     },
     "execution_count": 139,
     "metadata": {},
     "output_type": "execute_result"
    }
   ],
   "source": [
    "val2.sort()\n",
    "val2"
   ]
  },
  {
   "cell_type": "code",
   "execution_count": 140,
   "id": "b0ea5e7e",
   "metadata": {},
   "outputs": [],
   "source": [
    "val.sort()"
   ]
  },
  {
   "cell_type": "code",
   "execution_count": 143,
   "id": "1a13b5b4",
   "metadata": {},
   "outputs": [
    {
     "data": {
      "text/plain": [
       "array([-0. ,  0.2,  1.7,  2. ,  2.6,  3.6,  4.5,  5. ,  5. ,  5.4],\n",
       "      dtype=float32)"
      ]
     },
     "execution_count": 143,
     "metadata": {},
     "output_type": "execute_result"
    }
   ],
   "source": [
    "val.round(1)"
   ]
  },
  {
   "cell_type": "code",
   "execution_count": 144,
   "id": "b66d99d7",
   "metadata": {},
   "outputs": [
    {
     "data": {
      "text/plain": [
       "array([0.2, 1. , 1.7, 2. , 2.6, 3.6, 4.5, 5. , 5. , 5.4], dtype=float32)"
      ]
     },
     "execution_count": 144,
     "metadata": {},
     "output_type": "execute_result"
    }
   ],
   "source": [
    "val2.round(1)"
   ]
  },
  {
   "cell_type": "code",
   "execution_count": null,
   "id": "cdd4ae75",
   "metadata": {},
   "outputs": [],
   "source": []
  },
  {
   "cell_type": "code",
   "execution_count": 43,
   "id": "4e63d3c0",
   "metadata": {},
   "outputs": [],
   "source": [
    "L = np.diag(A.numpy().sum(1)) - A.numpy()"
   ]
  },
  {
   "cell_type": "code",
   "execution_count": 131,
   "id": "9bcaa6b9",
   "metadata": {},
   "outputs": [],
   "source": [
    "val, vec = np.linalg.eig(L)"
   ]
  },
  {
   "cell_type": "code",
   "execution_count": 132,
   "id": "e7398065",
   "metadata": {},
   "outputs": [
    {
     "data": {
      "text/plain": [
       "array([-0. ,  0.2,  5.4,  5. ,  4.5,  3.6,  1.7,  2.6,  2. ,  5. ],\n",
       "      dtype=float32)"
      ]
     },
     "execution_count": 132,
     "metadata": {},
     "output_type": "execute_result"
    }
   ],
   "source": [
    "val.round(1)"
   ]
  },
  {
   "cell_type": "code",
   "execution_count": 95,
   "id": "98e20414",
   "metadata": {},
   "outputs": [
    {
     "data": {
      "text/plain": [
       "(10, 10)"
      ]
     },
     "execution_count": 95,
     "metadata": {},
     "output_type": "execute_result"
    }
   ],
   "source": [
    "vec.shape"
   ]
  },
  {
   "cell_type": "code",
   "execution_count": 96,
   "id": "dedbf88e",
   "metadata": {},
   "outputs": [
    {
     "data": {
      "text/plain": [
       "array([[ 1.  , -0.  , -0.  ,  0.  , -0.  , -0.  ,  0.  , -0.  ,  0.  ,\n",
       "         0.  ],\n",
       "       [-0.  ,  1.  , -0.  ,  0.  ,  0.  ,  0.  , -0.  , -0.  , -0.  ,\n",
       "         0.  ],\n",
       "       [-0.  , -0.  ,  1.  ,  0.  , -0.  ,  0.  ,  0.  ,  0.  ,  0.  ,\n",
       "         0.  ],\n",
       "       [ 0.  ,  0.  ,  0.  ,  1.  ,  0.  ,  0.  ,  0.  ,  0.  ,  0.  ,\n",
       "        -0.11],\n",
       "       [-0.  ,  0.  , -0.  ,  0.  ,  1.  ,  0.  , -0.  , -0.  , -0.  ,\n",
       "        -0.  ],\n",
       "       [-0.  ,  0.  ,  0.  ,  0.  ,  0.  ,  1.  ,  0.  , -0.  ,  0.  ,\n",
       "        -0.  ],\n",
       "       [ 0.  , -0.  ,  0.  ,  0.  , -0.  ,  0.  ,  1.  , -0.  ,  0.  ,\n",
       "         0.  ],\n",
       "       [-0.  , -0.  ,  0.  ,  0.  , -0.  , -0.  , -0.  ,  1.  , -0.  ,\n",
       "        -0.  ],\n",
       "       [ 0.  , -0.  ,  0.  ,  0.  , -0.  ,  0.  ,  0.  , -0.  ,  1.  ,\n",
       "        -0.  ],\n",
       "       [ 0.  ,  0.  ,  0.  , -0.11, -0.  , -0.  ,  0.  , -0.  , -0.  ,\n",
       "         1.  ]], dtype=float32)"
      ]
     },
     "execution_count": 96,
     "metadata": {},
     "output_type": "execute_result"
    }
   ],
   "source": [
    "np.matmul(vec.T, vec).round(2)"
   ]
  },
  {
   "cell_type": "code",
   "execution_count": 97,
   "id": "bc331c2f",
   "metadata": {},
   "outputs": [],
   "source": [
    "aux = (vec @ np.diag(val) @ vec.T)"
   ]
  },
  {
   "cell_type": "code",
   "execution_count": 111,
   "id": "8119ac05",
   "metadata": {},
   "outputs": [],
   "source": [
    "aux2 = (vec[:,:7] @ np.diag(val[:7]) @ vec[:,:7].T)"
   ]
  },
  {
   "cell_type": "code",
   "execution_count": null,
   "id": "ca477003",
   "metadata": {},
   "outputs": [],
   "source": []
  },
  {
   "cell_type": "code",
   "execution_count": 112,
   "id": "606dc99b",
   "metadata": {},
   "outputs": [
    {
     "data": {
      "text/plain": [
       "<matplotlib.colorbar.Colorbar at 0x1573a7190>"
      ]
     },
     "execution_count": 112,
     "metadata": {},
     "output_type": "execute_result"
    },
    {
     "data": {
      "image/png": "[encoded data removed]",
      "text/plain": [
       "<Figure size 480x480 with 2 Axes>"
      ]
     },
     "metadata": {},
     "output_type": "display_data"
    }
   ],
   "source": [
    "# plt.matshow(L)\n",
    "plt.matshow(aux2)\n",
    "plt.colorbar()"
   ]
  },
  {
   "cell_type": "code",
   "execution_count": null,
   "id": "09c13778",
   "metadata": {},
   "outputs": [],
   "source": []
  },
  {
   "cell_type": "code",
   "execution_count": null,
   "id": "9bd92cf9",
   "metadata": {},
   "outputs": [],
   "source": []
  }
 ],
 "metadata": {
  "kernelspec": {
   "display_name": "Python 3 (ipykernel)",
   "language": "python",
   "name": "python3"
  },
  "language_info": {
   "codemirror_mode": {
    "name": "ipython",
    "version": 3
   },
   "file_extension": ".py",
   "mimetype": "text/x-python",
   "name": "python",
   "nbconvert_exporter": "python",
   "pygments_lexer": "ipython3",
   "version": "3.10.10"
  }
 },
 "nbformat": 4,
 "nbformat_minor": 5
}

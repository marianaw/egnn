{
 "cells": [
  {
   "cell_type": "code",
   "execution_count": 1,
   "id": "a6c45d37",
   "metadata": {},
   "outputs": [],
   "source": [
    "import sys\n",
    "sys.path.append('/Users/mariana/Documents/projects/Graphs/egnn')"
   ]
  },
  {
   "cell_type": "code",
   "execution_count": 3,
   "id": "a8b4ad18",
   "metadata": {},
   "outputs": [],
   "source": [
    "import os\n",
    "import json\n",
    "import matplotlib.pyplot as plt"
   ]
  },
  {
   "cell_type": "code",
   "execution_count": 5,
   "id": "4e6b7a71",
   "metadata": {},
   "outputs": [],
   "source": [
    "path = '/Users/mariana/Documents/projects/Graphs/EGNN_VAE/'\n",
    "c10 = 'nodes_10_community/exp_1/output.json'\n",
    "c50 = 'nodes_50_community/exp_1/output.json'\n",
    "out10 = json.load(open(os.path.join(path, c10), 'r'))\n",
    "out50 = json.load(open(os.path.join(path, c50), 'r'))"
   ]
  },
  {
   "cell_type": "code",
   "execution_count": 7,
   "id": "95935c65",
   "metadata": {},
   "outputs": [
    {
     "data": {
      "text/plain": [
       "dict_keys(['train', 'val', 'test'])"
      ]
     },
     "execution_count": 7,
     "metadata": {},
     "output_type": "execute_result"
    }
   ],
   "source": [
    "out10.keys()"
   ]
  },
  {
   "cell_type": "code",
   "execution_count": 9,
   "id": "89752f74",
   "metadata": {},
   "outputs": [
    {
     "data": {
      "text/plain": [
       "dict_keys(['epoch', 'loss', 'bce', 'kl', 'kl_coords', 'adj_err', 'wrong_edges', 'gt_edges', 'possible_edges', 'tp', 'fp', 'fn'])"
      ]
     },
     "execution_count": 9,
     "metadata": {},
     "output_type": "execute_result"
    }
   ],
   "source": [
    "out10['train'].keys()"
   ]
  },
  {
   "cell_type": "code",
   "execution_count": 15,
   "id": "9940a680",
   "metadata": {},
   "outputs": [
    {
     "data": {
      "text/plain": [
       "[1608.9353340087891, 848.9897768798828, 712.806738244629]"
      ]
     },
     "execution_count": 15,
     "metadata": {},
     "output_type": "execute_result"
    }
   ],
   "source": [
    "out50['train']['loss']"
   ]
  },
  {
   "cell_type": "code",
   "execution_count": null,
   "id": "e83cb94c",
   "metadata": {},
   "outputs": [],
   "source": []
  }
 ],
 "metadata": {
  "kernelspec": {
   "display_name": "Python 3 (ipykernel)",
   "language": "python",
   "name": "python3"
  },
  "language_info": {
   "codemirror_mode": {
    "name": "ipython",
    "version": 3
   },
   "file_extension": ".py",
   "mimetype": "text/x-python",
   "name": "python",
   "nbconvert_exporter": "python",
   "pygments_lexer": "ipython3",
   "version": "3.10.10"
  }
 },
 "nbformat": 4,
 "nbformat_minor": 5
}

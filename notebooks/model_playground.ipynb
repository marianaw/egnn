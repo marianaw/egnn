{
 "cells": [
  {
   "cell_type": "code",
   "execution_count": 2,
   "id": "c195806d",
   "metadata": {},
   "outputs": [],
   "source": [
    "import sys\n",
    "sys.path.append('/Users/mariana/Documents/projects/Graphs/egnn')"
   ]
  },
  {
   "cell_type": "code",
   "execution_count": 3,
   "id": "c7782512",
   "metadata": {},
   "outputs": [],
   "source": [
    "import models"
   ]
  },
  {
   "cell_type": "code",
   "execution_count": 8,
   "id": "a5d8b1f8",
   "metadata": {},
   "outputs": [],
   "source": [
    "from ae_datasets import d_selector, Dataloader\n",
    "from ae_datasets.d_creator import max_n_nodes, DatasetCommunity, DatasetErdosRenyiNodes\n",
    "import graph as gl\n",
    "from torch import nn"
   ]
  },
  {
   "cell_type": "code",
   "execution_count": 5,
   "id": "50621cc9",
   "metadata": {},
   "outputs": [
    {
     "name": "stdout",
     "output_type": "stream",
     "text": [
      "Creating dataset with  2  communities\n"
     ]
    }
   ],
   "source": [
    "dataset = DatasetCommunity(n_samples=10, n_nodes=24)"
   ]
  },
  {
   "cell_type": "code",
   "execution_count": 11,
   "id": "fdfec318",
   "metadata": {},
   "outputs": [],
   "source": [
    "graph = dataset.graphs[0]\n",
    "nodes, edges, edge_attr, adj_gt = graph.get_dense_graph(store=True, loops=False)"
   ]
  },
  {
   "cell_type": "code",
   "execution_count": 16,
   "id": "e63a06fa",
   "metadata": {},
   "outputs": [],
   "source": [
    "coords = None"
   ]
  },
  {
   "cell_type": "code",
   "execution_count": 23,
   "id": "6b284894",
   "metadata": {},
   "outputs": [],
   "source": [
    "model = models.AE_EGNN(hidden_nf=64, K=2, act_fn=nn.SiLU(), device='cpu', n_layers=4,\n",
    "                           reg=1e-3, clamp=1)"
   ]
  },
  {
   "cell_type": "code",
   "execution_count": 24,
   "id": "afac69ca",
   "metadata": {},
   "outputs": [],
   "source": [
    "code = model.encode(nodes, edges, coords, edge_attr)"
   ]
  },
  {
   "cell_type": "code",
   "execution_count": 25,
   "id": "feea490c",
   "metadata": {},
   "outputs": [
    {
     "data": {
      "text/plain": [
       "torch.Size([24, 2])"
      ]
     },
     "execution_count": 25,
     "metadata": {},
     "output_type": "execute_result"
    }
   ],
   "source": [
    "code.shape"
   ]
  },
  {
   "cell_type": "code",
   "execution_count": 27,
   "id": "9cf9a6ac",
   "metadata": {},
   "outputs": [
    {
     "data": {
      "text/plain": [
       "Parameter containing:\n",
       "tensor([1.], requires_grad=True)"
      ]
     },
     "execution_count": 27,
     "metadata": {},
     "output_type": "execute_result"
    }
   ],
   "source": [
    "model.b"
   ]
  },
  {
   "cell_type": "code",
   "execution_count": null,
   "id": "eed155c6",
   "metadata": {},
   "outputs": [],
   "source": []
  }
 ],
 "metadata": {
  "kernelspec": {
   "display_name": "Python 3 (ipykernel)",
   "language": "python",
   "name": "python3"
  },
  "language_info": {
   "codemirror_mode": {
    "name": "ipython",
    "version": 3
   },
   "file_extension": ".py",
   "mimetype": "text/x-python",
   "name": "python",
   "nbconvert_exporter": "python",
   "pygments_lexer": "ipython3",
   "version": "3.10.10"
  }
 },
 "nbformat": 4,
 "nbformat_minor": 5
}

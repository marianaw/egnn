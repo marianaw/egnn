{
 "cells": [
  {
   "cell_type": "code",
   "execution_count": 1,
   "id": "eff8de00",
   "metadata": {},
   "outputs": [],
   "source": [
    "import numpy as np\n",
    "import networkx as nx"
   ]
  },
  {
   "cell_type": "code",
   "execution_count": 2,
   "id": "c45a3d24",
   "metadata": {},
   "outputs": [],
   "source": [
    "A1 = np.array([[0, 1, 1],\n",
    "               [1, 0, 0],\n",
    "               [1, 0, 0]])\n",
    "A2 = np.array([[0, 1, 0],\n",
    "               [1, 0, 1],\n",
    "               [0, 1, 0]])\n",
    "A3 = np.array([[0, 0, 1],\n",
    "               [0, 0, 1],\n",
    "               [1, 1, 0]])"
   ]
  },
  {
   "cell_type": "code",
   "execution_count": 3,
   "id": "81a3a518",
   "metadata": {},
   "outputs": [
    {
     "data": {
      "text/plain": [
       "array([ 1.414, -1.414,  0.   ])"
      ]
     },
     "execution_count": 3,
     "metadata": {},
     "output_type": "execute_result"
    }
   ],
   "source": [
    "val1, vec1 = np.linalg.eig(A1)\n",
    "val1.round(3)"
   ]
  },
  {
   "cell_type": "code",
   "execution_count": 4,
   "id": "fb96956f",
   "metadata": {},
   "outputs": [
    {
     "data": {
      "text/plain": [
       "array([[ 0.71,  0.71,  0.  ],\n",
       "       [ 0.5 , -0.5 , -0.71],\n",
       "       [ 0.5 , -0.5 ,  0.71]])"
      ]
     },
     "execution_count": 4,
     "metadata": {},
     "output_type": "execute_result"
    }
   ],
   "source": [
    "vec1.round(2)"
   ]
  },
  {
   "cell_type": "code",
   "execution_count": 5,
   "id": "b76045c1",
   "metadata": {},
   "outputs": [
    {
     "data": {
      "text/plain": [
       "array([-1.414, -0.   ,  1.414])"
      ]
     },
     "execution_count": 5,
     "metadata": {},
     "output_type": "execute_result"
    }
   ],
   "source": [
    "val2, vec2 = np.linalg.eig(A2)\n",
    "val2.round(3)"
   ]
  },
  {
   "cell_type": "code",
   "execution_count": 6,
   "id": "038bdd66",
   "metadata": {},
   "outputs": [
    {
     "data": {
      "text/plain": [
       "array([[ 0.5 ,  0.71,  0.5 ],\n",
       "       [-0.71, -0.  ,  0.71],\n",
       "       [ 0.5 , -0.71,  0.5 ]])"
      ]
     },
     "execution_count": 6,
     "metadata": {},
     "output_type": "execute_result"
    }
   ],
   "source": [
    "vec2.round(2)"
   ]
  },
  {
   "cell_type": "code",
   "execution_count": 7,
   "id": "1207b080",
   "metadata": {},
   "outputs": [
    {
     "data": {
      "text/plain": [
       "array([-1.414, -0.   ,  1.414])"
      ]
     },
     "execution_count": 7,
     "metadata": {},
     "output_type": "execute_result"
    }
   ],
   "source": [
    "val3, vec3 = np.linalg.eig(A3)\n",
    "val3.round(3)"
   ]
  },
  {
   "cell_type": "code",
   "execution_count": 8,
   "id": "9312676f",
   "metadata": {},
   "outputs": [
    {
     "data": {
      "text/plain": [
       "array([[ 0.5 , -0.71, -0.5 ],\n",
       "       [ 0.5 ,  0.71, -0.5 ],\n",
       "       [-0.71,  0.  , -0.71]])"
      ]
     },
     "execution_count": 8,
     "metadata": {},
     "output_type": "execute_result"
    }
   ],
   "source": [
    "vec3.round(2)"
   ]
  },
  {
   "cell_type": "code",
   "execution_count": 25,
   "id": "9bd0f498",
   "metadata": {},
   "outputs": [
    {
     "data": {
      "text/plain": [
       "{1: 1, 2: 2, 0: 0, 3: 3}"
      ]
     },
     "execution_count": 25,
     "metadata": {},
     "output_type": "execute_result"
    }
   ],
   "source": [
    "G1 = nx.path_graph(4)\n",
    "G2 = nx.path_graph(4)\n",
    "nx.vf2pp_is_isomorphic(G1, G2, node_label=None)\n",
    "nx.vf2pp_isomorphism(G1, G2, node_label=None)"
   ]
  },
  {
   "cell_type": "code",
   "execution_count": 54,
   "id": "8f0e03cb",
   "metadata": {},
   "outputs": [
    {
     "data": {
      "text/plain": [
       "array([[0, 1, 0, 0],\n",
       "       [1, 0, 1, 0],\n",
       "       [0, 1, 0, 1],\n",
       "       [0, 0, 1, 0]])"
      ]
     },
     "execution_count": 54,
     "metadata": {},
     "output_type": "execute_result"
    }
   ],
   "source": [
    "nx.adjacency_matrix(G1).toarray()"
   ]
  },
  {
   "cell_type": "code",
   "execution_count": 55,
   "id": "92f2f9ed",
   "metadata": {},
   "outputs": [
    {
     "data": {
      "text/plain": [
       "array([[0, 1, 0, 0],\n",
       "       [1, 0, 1, 0],\n",
       "       [0, 1, 0, 1],\n",
       "       [0, 0, 1, 0]])"
      ]
     },
     "execution_count": 55,
     "metadata": {},
     "output_type": "execute_result"
    }
   ],
   "source": [
    "nx.adjacency_matrix(G2).toarray()"
   ]
  },
  {
   "cell_type": "code",
   "execution_count": 57,
   "id": "1b00f334",
   "metadata": {},
   "outputs": [
    {
     "data": {
      "text/plain": [
       "NodeView((0, 1, 2, 3))"
      ]
     },
     "execution_count": 57,
     "metadata": {},
     "output_type": "execute_result"
    }
   ],
   "source": [
    "G1.nodes"
   ]
  },
  {
   "cell_type": "code",
   "execution_count": null,
   "id": "85bff0dc",
   "metadata": {},
   "outputs": [],
   "source": []
  },
  {
   "cell_type": "code",
   "execution_count": 35,
   "id": "0a60d75a",
   "metadata": {},
   "outputs": [
    {
     "data": {
      "text/plain": [
       "True"
      ]
     },
     "execution_count": 35,
     "metadata": {},
     "output_type": "execute_result"
    }
   ],
   "source": [
    "G1 = nx.path_graph(4)\n",
    "G2 = nx.path_graph(4)\n",
    "mapped = {1: 2, 2: 1, 3: 0, 0: 3}\n",
    "nx.set_node_attributes(G1, dict(zip(G1, [\"blue\", \"red\", \"green\", \"yellow\"])), \"label\")\n",
    "nx.set_node_attributes(G2, dict(zip([mapped[u] for u in G1], [\"blue\", \"red\", \"green\", \"yellow\"])), \"label\")\n",
    "nx.vf2pp_is_isomorphic(G1, G2, node_label=\"label\")\n"
   ]
  },
  {
   "cell_type": "code",
   "execution_count": 53,
   "id": "f484bf33",
   "metadata": {},
   "outputs": [],
   "source": [
    "nx.vf2pp_isomorphism(G1, G2, node_label=\"label\")"
   ]
  },
  {
   "cell_type": "code",
   "execution_count": 58,
   "id": "fbcbeec8",
   "metadata": {},
   "outputs": [
    {
     "data": {
      "text/plain": [
       "False"
      ]
     },
     "execution_count": 58,
     "metadata": {},
     "output_type": "execute_result"
    }
   ],
   "source": [
    "G1 = nx.path_graph(4)\n",
    "G2 = nx.path_graph(4)\n",
    "mapped = {1: 1, 2: 3, 3: 2, 0: 0}\n",
    "nx.set_node_attributes(G1, dict(zip(G1, [\"blue\", \"red\", \"green\", \"yellow\"])), \"label\")\n",
    "nx.set_node_attributes(G2, dict(zip([mapped[u] for u in G1], [\"blue\", \"red\", \"green\", \"yellow\"])), \"label\")\n",
    "nx.vf2pp_is_isomorphic(G1, G2, node_label=\"label\")\n"
   ]
  },
  {
   "cell_type": "code",
   "execution_count": 59,
   "id": "2701d9dc",
   "metadata": {},
   "outputs": [],
   "source": [
    "isos = list(nx.vf2pp_all_isomorphisms(G1, G2))"
   ]
  },
  {
   "cell_type": "code",
   "execution_count": 60,
   "id": "f008a677",
   "metadata": {},
   "outputs": [
    {
     "data": {
      "text/plain": [
       "[{1: 1, 2: 2, 0: 0, 3: 3}, {1: 2, 2: 1, 0: 3, 3: 0}]"
      ]
     },
     "execution_count": 60,
     "metadata": {},
     "output_type": "execute_result"
    }
   ],
   "source": [
    "isos"
   ]
  },
  {
   "cell_type": "code",
   "execution_count": 42,
   "id": "784daf79",
   "metadata": {},
   "outputs": [
    {
     "data": {
      "image/png": "[encoded data removed]",
      "text/plain": [
       "<Figure size 640x480 with 1 Axes>"
      ]
     },
     "metadata": {},
     "output_type": "display_data"
    }
   ],
   "source": [
    "nx.draw(G2, with_labels = True)"
   ]
  },
  {
   "cell_type": "code",
   "execution_count": 23,
   "id": "59ac0d5a",
   "metadata": {},
   "outputs": [
    {
     "data": {
      "text/plain": [
       "{0: 'blue', 1: 'red', 2: 'green', 3: 'yellow'}"
      ]
     },
     "execution_count": 23,
     "metadata": {},
     "output_type": "execute_result"
    }
   ],
   "source": [
    "dict(zip([mapped[u] for u in G1], [\"blue\", \"red\", \"green\", \"yellow\"]))"
   ]
  },
  {
   "cell_type": "code",
   "execution_count": null,
   "id": "acc56c84",
   "metadata": {},
   "outputs": [],
   "source": []
  }
 ],
 "metadata": {
  "kernelspec": {
   "display_name": "Python 3 (ipykernel)",
   "language": "python",
   "name": "python3"
  },
  "language_info": {
   "codemirror_mode": {
    "name": "ipython",
    "version": 3
   },
   "file_extension": ".py",
   "mimetype": "text/x-python",
   "name": "python",
   "nbconvert_exporter": "python",
   "pygments_lexer": "ipython3",
   "version": "3.11.3"
  }
 },
 "nbformat": 4,
 "nbformat_minor": 5
}
